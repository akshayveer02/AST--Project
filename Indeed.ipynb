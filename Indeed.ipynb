{
 "cells": [
  {
   "cell_type": "code",
   "execution_count": 2,
   "id": "3ba543ec",
   "metadata": {},
   "outputs": [
    {
     "name": "stdout",
     "output_type": "stream",
     "text": [
      "Enter your Skill: PYTHON\n",
      "Enter the location: HYDERABAD\n",
      "Enter the #pages to scrape: 3\n",
      "\n",
      "Scraping in progress...\n",
      "\n",
      "Jobs data written to \"Python_Hyderabad_Jobs.csv\" successfully.\n"
     ]
    }
   ],
   "source": [
    "import os\n",
    "import csv\n",
    "import requests\n",
    "from bs4 import BeautifulSoup\n",
    "\n",
    "def create_directory(directory):\n",
    "    if not os.path.exists(directory):\n",
    "        os.makedirs(directory)\n",
    "        print(f'Directory \"{directory}\" created successfully.')\n",
    "\n",
    "def write_to_csv(file_path, header, data):\n",
    "    with open(file_path, mode='w', newline='', encoding='utf-8') as file:\n",
    "        writer = csv.writer(file, delimiter=',', quotechar='\"', quoting=csv.QUOTE_MINIMAL)\n",
    "        writer.writerow(header)\n",
    "        writer.writerows(data)\n",
    "\n",
    "def scrape_indeed_jobs(skill, place, no_of_pages):\n",
    "    main_dir = os.getcwd() + '/'\n",
    "    create_directory(main_dir)\n",
    "\n",
    "    file_name = f'{skill.title()}_{place.title()}_Jobs.csv'\n",
    "    file_path = main_dir + file_name\n",
    "\n",
    "    header = ['JOB_NAME', 'COMPANY', 'LOCATION', 'POSTED', 'APPLY_LINK']\n",
    "    job_data = []\n",
    "\n",
    "    base_url = 'https://in.indeed.com/viewjob?jk='\n",
    "\n",
    "    headers = {\n",
    "        \"User-agent\": \"Mozilla/5.0 (X11; Linux x86_64) AppleWebKit/537.36 (KHTML, like Gecko) Chrome/77.0.3865.120 Safari/537.36\"}\n",
    "\n",
    "    print(f'\\nScraping in progress...\\n')\n",
    "\n",
    "    for page in range(no_of_pages):\n",
    "        url = f'https://www.indeed.co.in/jobs?q={skill}&l={place}&start={page * 10}'\n",
    "        response = requests.get(url, headers=headers)\n",
    "        html = response.text\n",
    "\n",
    "        soup = BeautifulSoup(html, \"html.parser\")\n",
    "        if soup.find(\"html.parser\") is None and soup.find(\"lxml\") is not None:\n",
    "            soup = BeautifulSoup(html, \"lxml\")\n",
    "\n",
    "        job_cards = soup.find_all('div', class_='jobsearch-SerpJobCard')\n",
    "\n",
    "        for job in job_cards:\n",
    "            job_title_elem = job.find('span', id=lambda x: x and x.startswith('jobTitle-'))\n",
    "            job_title = job_title_elem.text.strip() if job_title_elem else 'N/A'\n",
    "\n",
    "            company_elem = job.find('span', class_='css-1x7z1ps')\n",
    "            company = company_elem.text.strip() if company_elem else 'N/A'\n",
    "\n",
    "            location_elem = job.find('div', class_='css-t4u72d')\n",
    "            location = location_elem.text.strip() if location_elem else 'N/A'\n",
    "\n",
    "            posted = job.find('span', class_='date').text.strip()\n",
    "            job_link = base_url + job.get('data-jk')\n",
    "            job_data.append([job_title, company, location, posted, job_link])\n",
    "\n",
    "    write_to_csv(file_path, header, job_data)\n",
    "    print(f'Jobs data written to \"{file_name}\" successfully.')\n",
    "\n",
    "if __name__ == \"__main__\":\n",
    "    skill = input('Enter your Skill: ').strip()\n",
    "    place = input('Enter the location: ').strip()\n",
    "    no_of_pages = int(input('Enter the #pages to scrape: '))\n",
    "\n",
    "    scrape_indeed_jobs(skill, place, no_of_pages)\n"
   ]
  },
  {
   "cell_type": "code",
   "execution_count": 2,
   "id": "55df0c6e",
   "metadata": {},
   "outputs": [
    {
     "name": "stdout",
     "output_type": "stream",
     "text": [
      "Collecting lxml\n",
      "  Downloading lxml-5.0.1-cp311-cp311-win_amd64.whl (3.9 MB)\n",
      "                                              0.0/3.9 MB ? eta -:--:--\n",
      "     -                                        0.1/3.9 MB 8.3 MB/s eta 0:00:01\n",
      "     ----------------                         1.6/3.9 MB 20.2 MB/s eta 0:00:01\n",
      "     ------------------------------           3.0/3.9 MB 23.7 MB/s eta 0:00:01\n",
      "     ---------------------------------------  3.9/3.9 MB 22.7 MB/s eta 0:00:01\n",
      "     ---------------------------------------- 3.9/3.9 MB 20.9 MB/s eta 0:00:00\n",
      "Installing collected packages: lxml\n",
      "Successfully installed lxml-5.0.1\n",
      "Note: you may need to restart the kernel to use updated packages.\n"
     ]
    },
    {
     "name": "stderr",
     "output_type": "stream",
     "text": [
      "\n",
      "[notice] A new release of pip is available: 23.1 -> 23.3.2\n",
      "[notice] To update, run: python.exe -m pip install --upgrade pip\n"
     ]
    }
   ],
   "source": [
    "pip install lxml"
   ]
  },
  {
   "cell_type": "code",
   "execution_count": 6,
   "id": "ce771348",
   "metadata": {},
   "outputs": [
    {
     "name": "stdout",
     "output_type": "stream",
     "text": [
      "<Response [403 Forbidden]>\n"
     ]
    }
   ],
   "source": [
    "import httpx\n",
    "HEADERS = {\n",
    "    \"User-Agent\": \"Mozilla/5.0 (Macintosh; Intel Mac OS X 10_11_5) AppleWebKit/537.36 (KHTML, like Gecko) Chrome/50.0.2661.102 Safari/537.36\",\n",
    "    \"Accept-Encoding\": \"gzip, deflate, br\",\n",
    "    \"Accept\": \"text/html,application/xhtml+xml,application/xml;q=0.9,image/webp,image/apng,*/*;q=0.8\",\n",
    "    \"Connection\": \"keep-alive\",\n",
    "    \"Accept-Language\": \"en-US,en;q=0.9,lt;q=0.8,et;q=0.7,de;q=0.6\",\n",
    "}\n",
    "\n",
    "response = httpx.get(\"https://www.indeed.com/jobs?q=python&l=Texas\", headers=HEADERS)\n",
    "print(response)"
   ]
  },
  {
   "cell_type": "code",
   "execution_count": 5,
   "id": "4163a886",
   "metadata": {},
   "outputs": [
    {
     "name": "stdout",
     "output_type": "stream",
     "text": [
      "Collecting scrapfly-sdk\n",
      "  Downloading scrapfly_sdk-0.8.10-py3-none-any.whl (28 kB)\n",
      "Requirement already satisfied: decorator>=4.2.0 in d:\\python\\lib\\site-packages (from scrapfly-sdk) (5.1.1)\n",
      "Requirement already satisfied: requests>=2.25.0 in d:\\python\\lib\\site-packages (from scrapfly-sdk) (2.28.2)\n",
      "Requirement already satisfied: python-dateutil<3.0.0,>=2.1 in d:\\python\\lib\\site-packages (from scrapfly-sdk) (2.8.2)\n",
      "Collecting loguru>=0.5 (from scrapfly-sdk)\n",
      "  Downloading loguru-0.7.2-py3-none-any.whl (62 kB)\n",
      "                                              0.0/62.5 kB ? eta -:--:--\n",
      "     ---------------------------------------- 62.5/62.5 kB ? eta 0:00:00\n",
      "Requirement already satisfied: urllib3>=1.26.0 in d:\\python\\lib\\site-packages (from scrapfly-sdk) (1.26.15)\n",
      "Collecting backoff>=1.10.0 (from scrapfly-sdk)\n",
      "  Downloading backoff-2.2.1-py3-none-any.whl (15 kB)\n",
      "Requirement already satisfied: colorama>=0.3.4 in d:\\python\\lib\\site-packages (from loguru>=0.5->scrapfly-sdk) (0.4.6)\n",
      "Collecting win32-setctime>=1.0.0 (from loguru>=0.5->scrapfly-sdk)\n",
      "  Downloading win32_setctime-1.1.0-py3-none-any.whl (3.6 kB)\n",
      "Requirement already satisfied: six>=1.5 in d:\\python\\lib\\site-packages (from python-dateutil<3.0.0,>=2.1->scrapfly-sdk) (1.16.0)\n",
      "Requirement already satisfied: charset-normalizer<4,>=2 in d:\\python\\lib\\site-packages (from requests>=2.25.0->scrapfly-sdk) (3.1.0)\n",
      "Requirement already satisfied: idna<4,>=2.5 in d:\\python\\lib\\site-packages (from requests>=2.25.0->scrapfly-sdk) (3.4)\n",
      "Requirement already satisfied: certifi>=2017.4.17 in d:\\python\\lib\\site-packages (from requests>=2.25.0->scrapfly-sdk) (2022.12.7)\n",
      "Installing collected packages: win32-setctime, backoff, loguru, scrapfly-sdk\n",
      "Successfully installed backoff-2.2.1 loguru-0.7.2 scrapfly-sdk-0.8.10 win32-setctime-1.1.0\n",
      "Note: you may need to restart the kernel to use updated packages.\n"
     ]
    },
    {
     "name": "stderr",
     "output_type": "stream",
     "text": [
      "\n",
      "[notice] A new release of pip is available: 23.1 -> 23.3.2\n",
      "[notice] To update, run: python.exe -m pip install --upgrade pip\n"
     ]
    }
   ],
   "source": [
    "pip install scrapfly-sdk"
   ]
  },
  {
   "cell_type": "code",
   "execution_count": 7,
   "id": "2bf7f6d7",
   "metadata": {
    "scrolled": true
   },
   "outputs": [
    {
     "name": "stdout",
     "output_type": "stream",
     "text": [
      "<!DOCTYPE html><html lang=\"en-US\"><head><title>Just a moment...</title><meta http-equiv=\"Content-Type\" content=\"text/html; charset=UTF-8\"><meta http-equiv=\"X-UA-Compatible\" content=\"IE=Edge\"><meta name=\"robots\" content=\"noindex,nofollow\"><meta name=\"viewport\" content=\"width=device-width,initial-scale=1\"><link href=\"/cdn-cgi/styles/challenges.css\" rel=\"stylesheet\"><meta http-equiv=\"refresh\" content=\"375\"></head><body class=\"no-js\"><div class=\"main-wrapper\" role=\"main\"><div class=\"main-content\"><noscript><div id=\"challenge-error-title\"><div class=\"h2\"><span class=\"icon-wrapper\"><div class=\"heading-icon warning-icon\"></div></span><span id=\"challenge-error-text\">Enable JavaScript and cookies to continue</span></div></div></noscript></div></div><script>(function(){window._cf_chl_opt={cvId: '2',cZone: \"www.indeed.com\",cType: 'managed',cNounce: '93313',cRay: '841d9e6c0f115483',cHash: 'e9615b19fab4cce',cUPMDTk: \"\\/jobs?q=python&l=Texas&__cf_chl_tk=HhIcPTsKqKYYON6TSbtPVHG.9s3DRBwlvFH6mVab1_k-1704645377-0-gaNycGzNC1A\",cFPWv: 'g',cTTimeMs: '1000',cMTimeMs: '375000',cTplV: 5,cTplB: 'cf',cK: \"visitor-time\",fa: \"\\/jobs?q=python&l=Texas&__cf_chl_f_tk=HhIcPTsKqKYYON6TSbtPVHG.9s3DRBwlvFH6mVab1_k-1704645377-0-gaNycGzNC1A\",md: \"WSNXOIBZh77wSdX7N9ZZSsTLf8bbmCneHSxQKK4XlXg-1704645377-1-Adc1tNvy5lee7EHOeomUkewDmBICFYbqMZn-Sn2NKZTVyMa7AbSVIsPj-tqt_95rCdtcdBTiltlCxmZ2rx-q6bq7CU970HWF_5aI41uUnZ3DlhEKSt76ZUBh9qZrzHP7AZHAjAUr7NJZivf6TphYIDpQyE0hGuwuRJQ9NOFU6hr77ItbXQ2vXzIbETwzFoiRp9AdnasQgsOThJI2g8AwCy45tOj7RXd5wzOHB0M-N3xyTkyzskbzuSPEeKAUiOXWLxV6CDsoGS8v1gnmRbkcmUjOD1Pse5_wjLhnCAnjoklzFxVPoNItL1RgN5arvIkz25du1z0lzrFWfLCbXggVG7x9Wiwe-Fbwm_8sXq-9Y0zyz7x47f-BmL7toZZmXq2P3cxg0Ebh7AirA7FCB9VWeNvdG8mKQSOSX_MCRFjTo02g80GSzC1FqwkbgPjM-_jSDu6MOFEPgormsQEt4RoyJD_Zybu_R22mmM6VN5U5R6Wabddcc44K8dcnS2CGXffy88ZXQBDxAMPbAyhxPR6KM9g0hMBq7RB2dS__zhgha2HBajCLBvKUSTKealn5FN6cK15nf2FIRiKfrPoTL__lWXTU3jWTFvee9-X96LoLlNSlT8vDjsIexr7dYYh_8KK4XGr9hjkDsOnK42l9WSYvuF7cxaQ7IdCnL83A2g7BJoiikHVfPJ-pV1YSi-qu9DxdtvrCTYccryKeLni99BfbzbVnLq66Gxx6cZNilJr4z82hNOaRZRs-4EekLuOoPX9F3WYjaqcEQ7v4IueDNWC4aYPU4JF1mJ5xeyt7q_nUm9UwEBps7gKNM7Qiy86opE7Mki9ElOr-sGm4dmHed8mNcOYiFOPRokoUP0DfJYSokxiLWE5Wm3F9Gk8tBTzee-CtuMD2YVhwE1hcmOIGYaQwh0aoRbVC-6n98Xr07RdlLML-XGUgL0AqFte7uaPxqOAWRkhSXW0y9UFKzl6yIwp1MWAKiBD_5c-hmEeVjP3bJGznIAhu6e34I9G3Xuc_iNEDAHi_Q7yvffZ2fgDzTmL1sVfbAVogQ8U1ktYt_3vXNz4x1SoJlawUSu2MYvgmekkEh0yHgaa0Y6HEs4kn4eDKBU5fCkyNxjajw41jRY_IBzcCJ10L3LhdQSQ753INg5UdaXeZdhMFdjW8zYfrv-KexOu73IJeJabTkrhCaRj5y7OyGo8_HpyPKFoBoFqyaTFNJfwO1zNAuVBPQuMCrXiJxI7LV5a2hCVI9TCgLlxu8eThg1NCntgH9EICK3301LMs4PIPkx3TbMNNz2w8ltrF-KUXRO5NY0NcqFGaNSed8roiPfHA5xUbc84ySaTIatkiYnRJuKqgBr9cJ19dDI3N_bSlQUmahWpb5SSdpWaDvwx2zy-aaajb2_5NxlF3l-f9b0KSlIEGS5EwlHXaQY27Gr1KLIlKG_LBDj2GuvyxUiWV_0zTMF-yM7G2eEBa58glZewKPnv4gexwI9D7IWTJ1BRbrgNx_raFOPSojxQGQfI1wMOGfwHE4VwAdJwkijSIZQ5WYj5YzxH-QiqW1hg49zxEcgy9TQ33dgg4aKzi5rUb3nIxeUoiReFX7gtHYFcQBpMyzaMeAGrFeQptDdqWVzATG1BsLJOthTQOxfshwzKpwJ-IpH_IZu9FOCXG4tOIof67Km2C0fMULnYHL4e30fKKBqre0Nc5NniAm-Q_SjLvMlhFvIxKW1_-l5ltuVT8_5k42sTt0h-h8bZzy2fMWCDSrMdnRFNrd7iDd3vCGuO6Rj4DmCjPSl43TATvmn2S7b2l-DgjotkYac9xXF1pVBVrS2RSA3EafRM5007sfkSsr2S9RnQBYGrHsEg4l6s3Hi2z_HJ2CjZB8zSwIV9zN0d1fzHbsFSc8a4qx6z9fAMjwj0awCBhdPEfOGZDjCkDJhDlZLBbg2szaxH8cCJHVZ8Cz0XsPGHdibHj0w8nuk_h4YE-u0-XaInSs87FUJzvLsmUSHy1w_p6OQQBMAyGSIK6q3a0LsCrux_5aJdyd1BW9dUK2AG0No3qzv3WkeyZKtEWwj2BCGmkbfqxP0bAn6zqqbYBclWi3pTRi2QhmwTmNCnkZMn2PPPJ_9O2lu5ZPmgCPOqyjWD6HMVhRr_YJgxYISvgVCL9F03YzJfqHwtxdk0W_mqlxajwMaypmHHWYmlwjv_hAqUy7nUJgMdg5M-Xejsu_E4ldRuSO-JH-kYTgoxt7tX-a8BWGCuisU75seHv9MQNas0-hPjGXC0jyrrDIpZhslqzOKZDJxlSh1mBdX9bkuUpcT3d8VxHFl7m0VtWneMskSBdaOSBurJB_itn7Ljrdtz70r54llQJl4BFUV6pep2zGc99BVVZ429JvC9AYpyysRObQS4JowKZk5YV4tqlpU4E_oUyZ7MpfLp2_GVTXIiqQzabn-xSg55b2o8Pn6HYbInQaMoZ5L2Dk2wvXrj7HiIVxgJVHLgUTBzCaupfeIFb4tGsft7ReDMqTVZSb_UcGLSrbJIjBApfelZXWcOyDhPhVofTapG_B5CH1669Feu07jPwZmXUFETAaekfw36LKV2D33AfAqH3F5qMo7_NWxq2dIK2ZrRBJinbKRXRAw5ySZSGummHADkZrD_3zixeEP3PgCgIBTi9o1Ti2Dx-E7bek8i3fbJ7ruCuUqeLg71uaKRwBWUwBkaiKHS3Gm08w6YUwRmvVVLuoBanu7INQ8MVwG6vowJ7tBSQmP2F4_ejcfCMbXlDYER7iTyuA-s8v3n2cxCEFu7PHUrCG457Id8P1ocAagQSIa1QRttDTIZG1rCdQkN532cXb8nl24qe6jN_s3Tns-O-lEw\",cRq: {ru: 'aHR0cHM6Ly93d3cuaW5kZWVkLmNvbS9qb2JzP3E9cHl0aG9uJmw9VGV4YXM=',ra: 'TW96aWxsYS81LjAgKE1hY2ludG9zaDsgSW50ZWwgTWFjIE9TIFggMTBfMTFfNSkgQXBwbGVXZWJLaXQvNTM3LjM2IChLSFRNTCwgbGlrZSBHZWNrbykgQ2hyb21lLzUwLjAuMjY2MS4xMDIgU2FmYXJpLzUzNy4zNg==',rm: 'R0VU',d: '9ht9wWJcq0WY1Xv/kRfUqkicJKfpQv0/2rr5NEqMM6AyqM8C6ORhLDiIZF4j5zc6nt4+2kOCueLcW+ueRsuAevgd+0PbFK7GVefUtqWa6/HNZK2h4WA4MahQnLBOfBxFPQDbvMClJDxtkeuuRr6SgYhe0tfrTXkLbsgl0hRbQ51jhToUuNuREFQSAxTFpt7L6h/w1Vjn4opWK4vKHLQGGFGUEIywESQtO+Ql+yRt8Ay7SU/qTwSQKU6c2AKBYjowevh4OUGfN2yaLGxAGUPFOi1tl0BZYFkMq9dNJGfoN23No3STDxCdUA5MNuerCrQGLTAC+RFQFBlJrM08i9eO+nzZEoIWLVZPCSMw03pPJmPMNQqB5EM/lzi42G61NnyG4tH9CP+xX+eUK2L/xXnI5nioQOWKO37FlnIPzzKe6F3WD8QTrmrwGsXtDia2k6qITc5WXhhrjSSOWO/NKp60rgDUZKS6rPZBAvM6JFGHqdyK9jv6IdQAb2cNCTkkUgvIziFtmRfoG9fSI0rQfllHDDEf8ToN+apxRFkVIzU2Ry7BnVi34ij8vMUss6ycuMqWryXQIh/0F253f+ExaFH6uA==',t: 'MTcwNDY0NTM3Ny45MjUwMDA=',cT: Math.floor(Date.now() / 1000),m: 'NjPg7YFQIMDqoouQoBA78xI7ffMRhOGKNEjVjtzC0VA=',i1: 'GOj3y/SR26c9jLS8SSjHaA==',i2: 'UesSXwnV6t7NddLjHfUAbQ==',zh: '2kfjrLYfAVNem19Lin3oP+VKo7ladb55se1eVtiLLnQ=',uh: 'MJnL4yXqlDXgoEFDXJrrYdndq9vyeF7u7u/p5sDi8wY=',hh: 'kscNdiThTx/CcYpUiV7EP4v/VgPxIHsoBIQQ6Rdzvmg=',}};var cpo = document.createElement('script');cpo.src = '/cdn-cgi/challenge-platform/h/g/orchestrate/chl_page/v1?ray=841d9e6c0f115483';window._cf_chl_opt.cOgUHash = location.hash === '' && location.href.indexOf('#') !== -1 ? '#' : location.hash;window._cf_chl_opt.cOgUQuery = location.search === '' && location.href.slice(0, location.href.length - window._cf_chl_opt.cOgUHash.length).indexOf('?') !== -1 ? '?' : location.search;if (window.history && window.history.replaceState) {var ogU = location.pathname + window._cf_chl_opt.cOgUQuery + window._cf_chl_opt.cOgUHash;history.replaceState(null, null, \"\\/jobs?q=python&l=Texas&__cf_chl_rt_tk=HhIcPTsKqKYYON6TSbtPVHG.9s3DRBwlvFH6mVab1_k-1704645377-0-gaNycGzNC1A\" + window._cf_chl_opt.cOgUHash);cpo.onload = function() {history.replaceState(null, null, ogU);}}document.getElementsByTagName('head')[0].appendChild(cpo);}());</script></body></html>\n"
     ]
    }
   ],
   "source": [
    "import requests\n",
    "url = 'https://www.indeed.com/jobs?q=python&l=Texas'\n",
    "headers = {'User-Agent': 'Mozilla/5.0 (Macintosh; Intel Mac OS X 10_11_5) AppleWebKit/537.36 (KHTML, like Gecko) Chrome/50.0.2661.102 Safari/537.36'}\n",
    "result = requests.get(url, headers=headers)\n",
    "print(result.content.decode())\n"
   ]
  },
  {
   "cell_type": "code",
   "execution_count": 11,
   "id": "24023dde",
   "metadata": {},
   "outputs": [
    {
     "ename": "OSError",
     "evalue": "[WinError 193] %1 is not a valid Win32 application",
     "output_type": "error",
     "traceback": [
      "\u001b[1;31m---------------------------------------------------------------------------\u001b[0m",
      "\u001b[1;31mOSError\u001b[0m                                   Traceback (most recent call last)",
      "Cell \u001b[1;32mIn[11], line 9\u001b[0m\n\u001b[0;32m      7\u001b[0m chrome_path \u001b[38;5;241m=\u001b[39m \u001b[38;5;124mr\u001b[39m\u001b[38;5;124m\"\u001b[39m\u001b[38;5;124mC:\u001b[39m\u001b[38;5;124m\\\u001b[39m\u001b[38;5;124mProgramData\u001b[39m\u001b[38;5;124m\\\u001b[39m\u001b[38;5;124mMicrosoft\u001b[39m\u001b[38;5;124m\\\u001b[39m\u001b[38;5;124mWindows\u001b[39m\u001b[38;5;124m\\\u001b[39m\u001b[38;5;124mStart Menu\u001b[39m\u001b[38;5;124m\\\u001b[39m\u001b[38;5;124mPrograms\u001b[39m\u001b[38;5;124m\\\u001b[39m\u001b[38;5;124mGoogle Chrome.lnk\u001b[39m\u001b[38;5;124m\"\u001b[39m\n\u001b[0;32m      8\u001b[0m chrome_service \u001b[38;5;241m=\u001b[39m ChromeService(chrome_path)\n\u001b[1;32m----> 9\u001b[0m driver \u001b[38;5;241m=\u001b[39m \u001b[43mwebdriver\u001b[49m\u001b[38;5;241;43m.\u001b[39;49m\u001b[43mChrome\u001b[49m\u001b[43m(\u001b[49m\u001b[43mservice\u001b[49m\u001b[38;5;241;43m=\u001b[39;49m\u001b[43mchrome_service\u001b[49m\u001b[43m)\u001b[49m\n\u001b[0;32m     11\u001b[0m \u001b[38;5;66;03m# Load the URL using the browser\u001b[39;00m\n\u001b[0;32m     12\u001b[0m driver\u001b[38;5;241m.\u001b[39mget(url)\n",
      "File \u001b[1;32mD:\\python\\Lib\\site-packages\\selenium\\webdriver\\chrome\\webdriver.py:49\u001b[0m, in \u001b[0;36mWebDriver.__init__\u001b[1;34m(self, options, service, keep_alive)\u001b[0m\n\u001b[0;32m     45\u001b[0m \u001b[38;5;28mself\u001b[39m\u001b[38;5;241m.\u001b[39mkeep_alive \u001b[38;5;241m=\u001b[39m keep_alive\n\u001b[0;32m     47\u001b[0m \u001b[38;5;28mself\u001b[39m\u001b[38;5;241m.\u001b[39mservice\u001b[38;5;241m.\u001b[39mpath \u001b[38;5;241m=\u001b[39m DriverFinder\u001b[38;5;241m.\u001b[39mget_path(\u001b[38;5;28mself\u001b[39m\u001b[38;5;241m.\u001b[39mservice, \u001b[38;5;28mself\u001b[39m\u001b[38;5;241m.\u001b[39moptions)\n\u001b[1;32m---> 49\u001b[0m \u001b[38;5;28;43msuper\u001b[39;49m\u001b[43m(\u001b[49m\u001b[43m)\u001b[49m\u001b[38;5;241;43m.\u001b[39;49m\u001b[38;5;21;43m__init__\u001b[39;49m\u001b[43m(\u001b[49m\n\u001b[0;32m     50\u001b[0m \u001b[43m    \u001b[49m\u001b[43mDesiredCapabilities\u001b[49m\u001b[38;5;241;43m.\u001b[39;49m\u001b[43mCHROME\u001b[49m\u001b[43m[\u001b[49m\u001b[38;5;124;43m\"\u001b[39;49m\u001b[38;5;124;43mbrowserName\u001b[39;49m\u001b[38;5;124;43m\"\u001b[39;49m\u001b[43m]\u001b[49m\u001b[43m,\u001b[49m\n\u001b[0;32m     51\u001b[0m \u001b[43m    \u001b[49m\u001b[38;5;124;43m\"\u001b[39;49m\u001b[38;5;124;43mgoog\u001b[39;49m\u001b[38;5;124;43m\"\u001b[39;49m\u001b[43m,\u001b[49m\n\u001b[0;32m     52\u001b[0m \u001b[43m    \u001b[49m\u001b[38;5;28;43mself\u001b[39;49m\u001b[38;5;241;43m.\u001b[39;49m\u001b[43moptions\u001b[49m\u001b[43m,\u001b[49m\n\u001b[0;32m     53\u001b[0m \u001b[43m    \u001b[49m\u001b[38;5;28;43mself\u001b[39;49m\u001b[38;5;241;43m.\u001b[39;49m\u001b[43mservice\u001b[49m\u001b[43m,\u001b[49m\n\u001b[0;32m     54\u001b[0m \u001b[43m    \u001b[49m\u001b[38;5;28;43mself\u001b[39;49m\u001b[38;5;241;43m.\u001b[39;49m\u001b[43mkeep_alive\u001b[49m\u001b[43m,\u001b[49m\n\u001b[0;32m     55\u001b[0m \u001b[43m\u001b[49m\u001b[43m)\u001b[49m\n",
      "File \u001b[1;32mD:\\python\\Lib\\site-packages\\selenium\\webdriver\\chromium\\webdriver.py:51\u001b[0m, in \u001b[0;36mChromiumDriver.__init__\u001b[1;34m(self, browser_name, vendor_prefix, options, service, keep_alive)\u001b[0m\n\u001b[0;32m     48\u001b[0m \u001b[38;5;28mself\u001b[39m\u001b[38;5;241m.\u001b[39mservice \u001b[38;5;241m=\u001b[39m service\n\u001b[0;32m     49\u001b[0m \u001b[38;5;28mself\u001b[39m\u001b[38;5;241m.\u001b[39moptions \u001b[38;5;241m=\u001b[39m options\n\u001b[1;32m---> 51\u001b[0m \u001b[38;5;28;43mself\u001b[39;49m\u001b[38;5;241;43m.\u001b[39;49m\u001b[43mservice\u001b[49m\u001b[38;5;241;43m.\u001b[39;49m\u001b[43mstart\u001b[49m\u001b[43m(\u001b[49m\u001b[43m)\u001b[49m\n\u001b[0;32m     53\u001b[0m \u001b[38;5;28;01mtry\u001b[39;00m:\n\u001b[0;32m     54\u001b[0m     \u001b[38;5;28msuper\u001b[39m()\u001b[38;5;241m.\u001b[39m\u001b[38;5;21m__init__\u001b[39m(\n\u001b[0;32m     55\u001b[0m         command_executor\u001b[38;5;241m=\u001b[39mChromiumRemoteConnection(\n\u001b[0;32m     56\u001b[0m             remote_server_addr\u001b[38;5;241m=\u001b[39m\u001b[38;5;28mself\u001b[39m\u001b[38;5;241m.\u001b[39mservice\u001b[38;5;241m.\u001b[39mservice_url,\n\u001b[1;32m   (...)\u001b[0m\n\u001b[0;32m     62\u001b[0m         options\u001b[38;5;241m=\u001b[39m\u001b[38;5;28mself\u001b[39m\u001b[38;5;241m.\u001b[39moptions,\n\u001b[0;32m     63\u001b[0m     )\n",
      "File \u001b[1;32mD:\\python\\Lib\\site-packages\\selenium\\webdriver\\common\\service.py:93\u001b[0m, in \u001b[0;36mService.start\u001b[1;34m(self)\u001b[0m\n\u001b[0;32m     86\u001b[0m \u001b[38;5;28;01mdef\u001b[39;00m \u001b[38;5;21mstart\u001b[39m(\u001b[38;5;28mself\u001b[39m) \u001b[38;5;241m-\u001b[39m\u001b[38;5;241m>\u001b[39m \u001b[38;5;28;01mNone\u001b[39;00m:\n\u001b[0;32m     87\u001b[0m \u001b[38;5;250m    \u001b[39m\u001b[38;5;124;03m\"\"\"Starts the Service.\u001b[39;00m\n\u001b[0;32m     88\u001b[0m \n\u001b[0;32m     89\u001b[0m \u001b[38;5;124;03m    :Exceptions:\u001b[39;00m\n\u001b[0;32m     90\u001b[0m \u001b[38;5;124;03m     - WebDriverException : Raised either when it can't start the service\u001b[39;00m\n\u001b[0;32m     91\u001b[0m \u001b[38;5;124;03m       or when it can't connect to the service\u001b[39;00m\n\u001b[0;32m     92\u001b[0m \u001b[38;5;124;03m    \"\"\"\u001b[39;00m\n\u001b[1;32m---> 93\u001b[0m     \u001b[38;5;28;43mself\u001b[39;49m\u001b[38;5;241;43m.\u001b[39;49m\u001b[43m_start_process\u001b[49m\u001b[43m(\u001b[49m\u001b[38;5;28;43mself\u001b[39;49m\u001b[38;5;241;43m.\u001b[39;49m\u001b[43m_path\u001b[49m\u001b[43m)\u001b[49m\n\u001b[0;32m     95\u001b[0m     count \u001b[38;5;241m=\u001b[39m \u001b[38;5;241m0\u001b[39m\n\u001b[0;32m     96\u001b[0m     \u001b[38;5;28;01mwhile\u001b[39;00m \u001b[38;5;28;01mTrue\u001b[39;00m:\n",
      "File \u001b[1;32mD:\\python\\Lib\\site-packages\\selenium\\webdriver\\common\\service.py:194\u001b[0m, in \u001b[0;36mService._start_process\u001b[1;34m(self, path)\u001b[0m\n\u001b[0;32m    192\u001b[0m close_file_descriptors \u001b[38;5;241m=\u001b[39m \u001b[38;5;28mself\u001b[39m\u001b[38;5;241m.\u001b[39mpopen_kw\u001b[38;5;241m.\u001b[39mpop(\u001b[38;5;124m\"\u001b[39m\u001b[38;5;124mclose_fds\u001b[39m\u001b[38;5;124m\"\u001b[39m, system() \u001b[38;5;241m!=\u001b[39m \u001b[38;5;124m\"\u001b[39m\u001b[38;5;124mWindows\u001b[39m\u001b[38;5;124m\"\u001b[39m)\n\u001b[0;32m    193\u001b[0m \u001b[38;5;28;01mtry\u001b[39;00m:\n\u001b[1;32m--> 194\u001b[0m     \u001b[38;5;28mself\u001b[39m\u001b[38;5;241m.\u001b[39mprocess \u001b[38;5;241m=\u001b[39m \u001b[43msubprocess\u001b[49m\u001b[38;5;241;43m.\u001b[39;49m\u001b[43mPopen\u001b[49m\u001b[43m(\u001b[49m\n\u001b[0;32m    195\u001b[0m \u001b[43m        \u001b[49m\u001b[43mcmd\u001b[49m\u001b[43m,\u001b[49m\n\u001b[0;32m    196\u001b[0m \u001b[43m        \u001b[49m\u001b[43menv\u001b[49m\u001b[38;5;241;43m=\u001b[39;49m\u001b[38;5;28;43mself\u001b[39;49m\u001b[38;5;241;43m.\u001b[39;49m\u001b[43menv\u001b[49m\u001b[43m,\u001b[49m\n\u001b[0;32m    197\u001b[0m \u001b[43m        \u001b[49m\u001b[43mclose_fds\u001b[49m\u001b[38;5;241;43m=\u001b[39;49m\u001b[43mclose_file_descriptors\u001b[49m\u001b[43m,\u001b[49m\n\u001b[0;32m    198\u001b[0m \u001b[43m        \u001b[49m\u001b[43mstdout\u001b[49m\u001b[38;5;241;43m=\u001b[39;49m\u001b[38;5;28;43mself\u001b[39;49m\u001b[38;5;241;43m.\u001b[39;49m\u001b[43mlog_file\u001b[49m\u001b[43m,\u001b[49m\n\u001b[0;32m    199\u001b[0m \u001b[43m        \u001b[49m\u001b[43mstderr\u001b[49m\u001b[38;5;241;43m=\u001b[39;49m\u001b[38;5;28;43mself\u001b[39;49m\u001b[38;5;241;43m.\u001b[39;49m\u001b[43mlog_file\u001b[49m\u001b[43m,\u001b[49m\n\u001b[0;32m    200\u001b[0m \u001b[43m        \u001b[49m\u001b[43mstdin\u001b[49m\u001b[38;5;241;43m=\u001b[39;49m\u001b[43mPIPE\u001b[49m\u001b[43m,\u001b[49m\n\u001b[0;32m    201\u001b[0m \u001b[43m        \u001b[49m\u001b[43mcreationflags\u001b[49m\u001b[38;5;241;43m=\u001b[39;49m\u001b[38;5;28;43mself\u001b[39;49m\u001b[38;5;241;43m.\u001b[39;49m\u001b[43mcreation_flags\u001b[49m\u001b[43m,\u001b[49m\n\u001b[0;32m    202\u001b[0m \u001b[43m        \u001b[49m\u001b[38;5;241;43m*\u001b[39;49m\u001b[38;5;241;43m*\u001b[39;49m\u001b[38;5;28;43mself\u001b[39;49m\u001b[38;5;241;43m.\u001b[39;49m\u001b[43mpopen_kw\u001b[49m\u001b[43m,\u001b[49m\n\u001b[0;32m    203\u001b[0m \u001b[43m    \u001b[49m\u001b[43m)\u001b[49m\n\u001b[0;32m    204\u001b[0m     logger\u001b[38;5;241m.\u001b[39mdebug(\u001b[38;5;124mf\u001b[39m\u001b[38;5;124m\"\u001b[39m\u001b[38;5;124mStarted executable: `\u001b[39m\u001b[38;5;132;01m{\u001b[39;00m\u001b[38;5;28mself\u001b[39m\u001b[38;5;241m.\u001b[39m_path\u001b[38;5;132;01m}\u001b[39;00m\u001b[38;5;124m` in a child process with pid: \u001b[39m\u001b[38;5;132;01m{\u001b[39;00m\u001b[38;5;28mself\u001b[39m\u001b[38;5;241m.\u001b[39mprocess\u001b[38;5;241m.\u001b[39mpid\u001b[38;5;132;01m}\u001b[39;00m\u001b[38;5;124m\"\u001b[39m)\n\u001b[0;32m    205\u001b[0m \u001b[38;5;28;01mexcept\u001b[39;00m \u001b[38;5;167;01mTypeError\u001b[39;00m:\n",
      "File \u001b[1;32mD:\\python\\Lib\\subprocess.py:1022\u001b[0m, in \u001b[0;36mPopen.__init__\u001b[1;34m(self, args, bufsize, executable, stdin, stdout, stderr, preexec_fn, close_fds, shell, cwd, env, universal_newlines, startupinfo, creationflags, restore_signals, start_new_session, pass_fds, user, group, extra_groups, encoding, errors, text, umask, pipesize, process_group)\u001b[0m\n\u001b[0;32m   1018\u001b[0m         \u001b[38;5;28;01mif\u001b[39;00m \u001b[38;5;28mself\u001b[39m\u001b[38;5;241m.\u001b[39mtext_mode:\n\u001b[0;32m   1019\u001b[0m             \u001b[38;5;28mself\u001b[39m\u001b[38;5;241m.\u001b[39mstderr \u001b[38;5;241m=\u001b[39m io\u001b[38;5;241m.\u001b[39mTextIOWrapper(\u001b[38;5;28mself\u001b[39m\u001b[38;5;241m.\u001b[39mstderr,\n\u001b[0;32m   1020\u001b[0m                     encoding\u001b[38;5;241m=\u001b[39mencoding, errors\u001b[38;5;241m=\u001b[39merrors)\n\u001b[1;32m-> 1022\u001b[0m     \u001b[38;5;28;43mself\u001b[39;49m\u001b[38;5;241;43m.\u001b[39;49m\u001b[43m_execute_child\u001b[49m\u001b[43m(\u001b[49m\u001b[43margs\u001b[49m\u001b[43m,\u001b[49m\u001b[43m \u001b[49m\u001b[43mexecutable\u001b[49m\u001b[43m,\u001b[49m\u001b[43m \u001b[49m\u001b[43mpreexec_fn\u001b[49m\u001b[43m,\u001b[49m\u001b[43m \u001b[49m\u001b[43mclose_fds\u001b[49m\u001b[43m,\u001b[49m\n\u001b[0;32m   1023\u001b[0m \u001b[43m                        \u001b[49m\u001b[43mpass_fds\u001b[49m\u001b[43m,\u001b[49m\u001b[43m \u001b[49m\u001b[43mcwd\u001b[49m\u001b[43m,\u001b[49m\u001b[43m \u001b[49m\u001b[43menv\u001b[49m\u001b[43m,\u001b[49m\n\u001b[0;32m   1024\u001b[0m \u001b[43m                        \u001b[49m\u001b[43mstartupinfo\u001b[49m\u001b[43m,\u001b[49m\u001b[43m \u001b[49m\u001b[43mcreationflags\u001b[49m\u001b[43m,\u001b[49m\u001b[43m \u001b[49m\u001b[43mshell\u001b[49m\u001b[43m,\u001b[49m\n\u001b[0;32m   1025\u001b[0m \u001b[43m                        \u001b[49m\u001b[43mp2cread\u001b[49m\u001b[43m,\u001b[49m\u001b[43m \u001b[49m\u001b[43mp2cwrite\u001b[49m\u001b[43m,\u001b[49m\n\u001b[0;32m   1026\u001b[0m \u001b[43m                        \u001b[49m\u001b[43mc2pread\u001b[49m\u001b[43m,\u001b[49m\u001b[43m \u001b[49m\u001b[43mc2pwrite\u001b[49m\u001b[43m,\u001b[49m\n\u001b[0;32m   1027\u001b[0m \u001b[43m                        \u001b[49m\u001b[43merrread\u001b[49m\u001b[43m,\u001b[49m\u001b[43m \u001b[49m\u001b[43merrwrite\u001b[49m\u001b[43m,\u001b[49m\n\u001b[0;32m   1028\u001b[0m \u001b[43m                        \u001b[49m\u001b[43mrestore_signals\u001b[49m\u001b[43m,\u001b[49m\n\u001b[0;32m   1029\u001b[0m \u001b[43m                        \u001b[49m\u001b[43mgid\u001b[49m\u001b[43m,\u001b[49m\u001b[43m \u001b[49m\u001b[43mgids\u001b[49m\u001b[43m,\u001b[49m\u001b[43m \u001b[49m\u001b[43muid\u001b[49m\u001b[43m,\u001b[49m\u001b[43m \u001b[49m\u001b[43mumask\u001b[49m\u001b[43m,\u001b[49m\n\u001b[0;32m   1030\u001b[0m \u001b[43m                        \u001b[49m\u001b[43mstart_new_session\u001b[49m\u001b[43m,\u001b[49m\u001b[43m \u001b[49m\u001b[43mprocess_group\u001b[49m\u001b[43m)\u001b[49m\n\u001b[0;32m   1031\u001b[0m \u001b[38;5;28;01mexcept\u001b[39;00m:\n\u001b[0;32m   1032\u001b[0m     \u001b[38;5;66;03m# Cleanup if the child failed starting.\u001b[39;00m\n\u001b[0;32m   1033\u001b[0m     \u001b[38;5;28;01mfor\u001b[39;00m f \u001b[38;5;129;01min\u001b[39;00m \u001b[38;5;28mfilter\u001b[39m(\u001b[38;5;28;01mNone\u001b[39;00m, (\u001b[38;5;28mself\u001b[39m\u001b[38;5;241m.\u001b[39mstdin, \u001b[38;5;28mself\u001b[39m\u001b[38;5;241m.\u001b[39mstdout, \u001b[38;5;28mself\u001b[39m\u001b[38;5;241m.\u001b[39mstderr)):\n",
      "File \u001b[1;32mD:\\python\\Lib\\subprocess.py:1491\u001b[0m, in \u001b[0;36mPopen._execute_child\u001b[1;34m(self, args, executable, preexec_fn, close_fds, pass_fds, cwd, env, startupinfo, creationflags, shell, p2cread, p2cwrite, c2pread, c2pwrite, errread, errwrite, unused_restore_signals, unused_gid, unused_gids, unused_uid, unused_umask, unused_start_new_session, unused_process_group)\u001b[0m\n\u001b[0;32m   1489\u001b[0m \u001b[38;5;66;03m# Start the process\u001b[39;00m\n\u001b[0;32m   1490\u001b[0m \u001b[38;5;28;01mtry\u001b[39;00m:\n\u001b[1;32m-> 1491\u001b[0m     hp, ht, pid, tid \u001b[38;5;241m=\u001b[39m \u001b[43m_winapi\u001b[49m\u001b[38;5;241;43m.\u001b[39;49m\u001b[43mCreateProcess\u001b[49m\u001b[43m(\u001b[49m\u001b[43mexecutable\u001b[49m\u001b[43m,\u001b[49m\u001b[43m \u001b[49m\u001b[43margs\u001b[49m\u001b[43m,\u001b[49m\n\u001b[0;32m   1492\u001b[0m \u001b[43m                             \u001b[49m\u001b[38;5;66;43;03m# no special security\u001b[39;49;00m\n\u001b[0;32m   1493\u001b[0m \u001b[43m                             \u001b[49m\u001b[38;5;28;43;01mNone\u001b[39;49;00m\u001b[43m,\u001b[49m\u001b[43m \u001b[49m\u001b[38;5;28;43;01mNone\u001b[39;49;00m\u001b[43m,\u001b[49m\n\u001b[0;32m   1494\u001b[0m \u001b[43m                             \u001b[49m\u001b[38;5;28;43mint\u001b[39;49m\u001b[43m(\u001b[49m\u001b[38;5;129;43;01mnot\u001b[39;49;00m\u001b[43m \u001b[49m\u001b[43mclose_fds\u001b[49m\u001b[43m)\u001b[49m\u001b[43m,\u001b[49m\n\u001b[0;32m   1495\u001b[0m \u001b[43m                             \u001b[49m\u001b[43mcreationflags\u001b[49m\u001b[43m,\u001b[49m\n\u001b[0;32m   1496\u001b[0m \u001b[43m                             \u001b[49m\u001b[43menv\u001b[49m\u001b[43m,\u001b[49m\n\u001b[0;32m   1497\u001b[0m \u001b[43m                             \u001b[49m\u001b[43mcwd\u001b[49m\u001b[43m,\u001b[49m\n\u001b[0;32m   1498\u001b[0m \u001b[43m                             \u001b[49m\u001b[43mstartupinfo\u001b[49m\u001b[43m)\u001b[49m\n\u001b[0;32m   1499\u001b[0m \u001b[38;5;28;01mfinally\u001b[39;00m:\n\u001b[0;32m   1500\u001b[0m     \u001b[38;5;66;03m# Child is launched. Close the parent's copy of those pipe\u001b[39;00m\n\u001b[0;32m   1501\u001b[0m     \u001b[38;5;66;03m# handles that only the child should have open.  You need\u001b[39;00m\n\u001b[1;32m   (...)\u001b[0m\n\u001b[0;32m   1504\u001b[0m     \u001b[38;5;66;03m# pipe will not close when the child process exits and the\u001b[39;00m\n\u001b[0;32m   1505\u001b[0m     \u001b[38;5;66;03m# ReadFile will hang.\u001b[39;00m\n\u001b[0;32m   1506\u001b[0m     \u001b[38;5;28mself\u001b[39m\u001b[38;5;241m.\u001b[39m_close_pipe_fds(p2cread, p2cwrite,\n\u001b[0;32m   1507\u001b[0m                          c2pread, c2pwrite,\n\u001b[0;32m   1508\u001b[0m                          errread, errwrite)\n",
      "\u001b[1;31mOSError\u001b[0m: [WinError 193] %1 is not a valid Win32 application"
     ]
    }
   ],
   "source": [
    "from selenium import webdriver\n",
    "from selenium.webdriver.chrome.service import Service as ChromeService\n",
    "\n",
    "url = 'https://www.indeed.com/jobs?q=python&l=Texas'\n",
    "\n",
    "# Set up the Chrome browser with Selenium\n",
    "chrome_path = r\"C:\\ProgramData\\Microsoft\\Windows\\Start Menu\\Programs\\Google Chrome.lnk\"\n",
    "chrome_service = ChromeService(chrome_path)\n",
    "driver = webdriver.Chrome(service=chrome_service)\n",
    "\n",
    "# Load the URL using the browser\n",
    "driver.get(url)\n",
    "\n",
    "# Wait for a few seconds to ensure the JavaScript executes\n",
    "driver.implicitly_wait(5)\n",
    "\n",
    "# Get the fully-rendered HTML content\n",
    "html_content = driver.page_source\n",
    "\n",
    "# Close the browser\n",
    "driver.quit()\n",
    "\n",
    "# Now you can use BeautifulSoup to parse the HTML as before\n"
   ]
  },
  {
   "cell_type": "code",
   "execution_count": 8,
   "id": "e875bb02",
   "metadata": {},
   "outputs": [],
   "source": [
    "import asyncio\n",
    "import json\n",
    "import re\n",
    "from urllib.parse import urlencode\n",
    "\n",
    "import httpx\n",
    "\n",
    "\n",
    "def parse_search_page(html: str):\n",
    "    data = re.findall(r'window.mosaic.providerData\\[\"mosaic-provider-jobcards\"\\]=(\\{.+?\\});', html)\n",
    "    data = json.loads(data[0])\n",
    "    return {\n",
    "        \"results\": data[\"metaData\"][\"mosaicProviderJobCardsModel\"][\"results\"],\n",
    "        \"meta\": data[\"metaData\"][\"mosaicProviderJobCardsModel\"][\"tierSummaries\"],\n",
    "    }\n",
    "\n",
    "\n",
    "async def scrape_search(client: httpx.AsyncClient, query: str, location: str, max_results: int = 50):\n",
    "    def make_page_url(offset):\n",
    "        parameters = {\"q\": query, \"l\": location, \"filter\": 0, \"start\": offset}\n",
    "        return \"https://www.indeed.com/jobs?\" + urlencode(parameters)\n",
    "\n",
    "    print(f\"scraping first page of search: {query=}, {location=}\")\n",
    "    response_first_page = await client.get(make_page_url(0))\n",
    "    data_first_page = parse_search_page(response_first_page.text)\n",
    "\n",
    "    results = data_first_page[\"results\"]\n",
    "    total_results = sum(category[\"jobCount\"] for category in data_first_page[\"meta\"])\n",
    "    # there's a page limit on indeed.com of 1000 results per search\n",
    "    if total_results > max_results:\n",
    "        total_results = max_results\n",
    "    print(f\"scraping remaining {total_results - 10 / 10} pages\")\n",
    "    other_pages = [make_page_url(offset) for offset in range(10, total_results + 10, 10)]\n",
    "    for response in await asyncio.gather(*[client.get(url=url) for url in other_pages]):\n",
    "        results.extend(parse_search_page(response.text))\n",
    "    return results"
   ]
  },
  {
   "cell_type": "code",
   "execution_count": null,
   "id": "aa405b80",
   "metadata": {},
   "outputs": [],
   "source": []
  }
 ],
 "metadata": {
  "kernelspec": {
   "display_name": "Python 3 (ipykernel)",
   "language": "python",
   "name": "python3"
  },
  "language_info": {
   "codemirror_mode": {
    "name": "ipython",
    "version": 3
   },
   "file_extension": ".py",
   "mimetype": "text/x-python",
   "name": "python",
   "nbconvert_exporter": "python",
   "pygments_lexer": "ipython3",
   "version": "3.9.0"
  }
 },
 "nbformat": 4,
 "nbformat_minor": 5
}
